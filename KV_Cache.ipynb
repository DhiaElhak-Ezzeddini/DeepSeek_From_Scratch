{
 "cells": [
  {
   "cell_type": "code",
   "execution_count": 2,
   "id": "69b8ccf9",
   "metadata": {},
   "outputs": [
    {
     "name": "stderr",
     "output_type": "stream",
     "text": [
      "C:\\Users\\DHIA\\AppData\\Local\\Packages\\PythonSoftwareFoundation.Python.3.12_qbz5n2kfra8p0\\LocalCache\\local-packages\\Python312\\site-packages\\tqdm\\auto.py:21: TqdmWarning: IProgress not found. Please update jupyter and ipywidgets. See https://ipywidgets.readthedocs.io/en/stable/user_install.html\n",
      "  from .autonotebook import tqdm as notebook_tqdm\n"
     ]
    }
   ],
   "source": [
    "import threading \n",
    "from transformers import AutoTokenizer , AutoModelForCausalLM , TextIteratorStreamer\n",
    "from time import time"
   ]
  },
  {
   "cell_type": "code",
   "execution_count": 3,
   "id": "461ed35c",
   "metadata": {},
   "outputs": [
    {
     "data": {
      "text/plain": [
       "tensor([[ 7120, 15120,  4940,   351,   530]])"
      ]
     },
     "execution_count": 3,
     "metadata": {},
     "output_type": "execute_result"
    }
   ],
   "source": [
    "tokenizer = AutoTokenizer.from_pretrained(\"gpt2\")\n",
    "model = AutoModelForCausalLM.from_pretrained(\"gpt2\")\n",
    "\n",
    "prompt = \"Your Journey starts with one\"\n",
    "tokens = o=tokenizer.encode(prompt,return_tensors=\"pt\")\n",
    "tokens"
   ]
  },
  {
   "cell_type": "code",
   "execution_count": 4,
   "id": "e72b6283",
   "metadata": {},
   "outputs": [],
   "source": [
    "def stream_output(use_cache):\n",
    "    streamer = TextIteratorStreamer(tokenizer,skip_special_tokens=True)\n",
    "    thread = threading.Thread(target=model.generate,kwargs={\n",
    "        'input_ids':tokens,\n",
    "        \"max_new_tokens\":100,\n",
    "        \"use_cache\":use_cache,\n",
    "        \"streamer\":streamer\n",
    "    })\n",
    "    \n",
    "    thread.start()\n",
    "    \n",
    "    start_time = time()\n",
    "    for token in streamer : \n",
    "        print(token,end=\"\",flush=True)\n",
    "    end_time = time()\n",
    "    thread.join()\n",
    "    \n",
    "    elapsed = end_time - start_time\n",
    "    print(f\"\\n\\nUse cache = {use_cache} , Time taken : {elapsed:.3f} seconds\\n\")"
   ]
  },
  {
   "cell_type": "code",
   "execution_count": 5,
   "id": "5df2f284",
   "metadata": {},
   "outputs": [
    {
     "name": "stderr",
     "output_type": "stream",
     "text": [
      "The attention mask and the pad token id were not set. As a consequence, you may observe unexpected behavior. Please pass your input's `attention_mask` to obtain reliable results.\n",
      "Setting `pad_token_id` to `eos_token_id`:50256 for open-end generation.\n",
      "The attention mask is not set and cannot be inferred from input because pad token is same as eos token. As a consequence, you may observe unexpected behavior. Please pass your input's `attention_mask` to obtain reliable results.\n"
     ]
    },
    {
     "name": "stdout",
     "output_type": "stream",
     "text": [
      "\n",
      "\n",
      "### Without KEY-VALUE Caching ###\n",
      "Your Journey starts with one of the most important things you can do to help your family.\n",
      "\n",
      "You can help your family by:\n",
      "\n",
      "Making sure you have a good job\n",
      "\n",
      "Getting a job\n",
      "\n",
      "Getting a job\n",
      "\n",
      "Getting a job\n",
      "\n",
      "Getting a job\n",
      "\n",
      "Getting a job\n",
      "\n",
      "Getting a job\n",
      "\n",
      "Getting a job\n",
      "\n",
      "Getting a job\n",
      "\n",
      "Getting a job\n",
      "\n",
      "Getting a job\n",
      "\n",
      "Getting a job\n",
      "\n",
      "Getting a job\n",
      "\n",
      "Getting a job\n",
      "\n",
      "Getting a\n",
      "\n",
      "Use cache = False , Time taken : 10.845 seconds\n",
      "\n"
     ]
    }
   ],
   "source": [
    "print(f\"\\n\\n### Without KEY-VALUE Caching ###\")\n",
    "stream_output(use_cache=False)"
   ]
  },
  {
   "cell_type": "code",
   "execution_count": 6,
   "id": "c3c27c5e",
   "metadata": {},
   "outputs": [
    {
     "name": "stderr",
     "output_type": "stream",
     "text": [
      "The attention mask and the pad token id were not set. As a consequence, you may observe unexpected behavior. Please pass your input's `attention_mask` to obtain reliable results.\n",
      "Setting `pad_token_id` to `eos_token_id`:50256 for open-end generation.\n"
     ]
    },
    {
     "name": "stdout",
     "output_type": "stream",
     "text": [
      "\n",
      "\n",
      "### With KEY-VALUE Caching ###\n",
      "Your Journey starts with one of the most important things you can do to help your family.\n",
      "\n",
      "You can help your family by:\n",
      "\n",
      "Making sure you have a good job\n",
      "\n",
      "Getting a job\n",
      "\n",
      "Getting a job\n",
      "\n",
      "Getting a job\n",
      "\n",
      "Getting a job\n",
      "\n",
      "Getting a job\n",
      "\n",
      "Getting a job\n",
      "\n",
      "Getting a job\n",
      "\n",
      "Getting a job\n",
      "\n",
      "Getting a job\n",
      "\n",
      "Getting a job\n",
      "\n",
      "Getting a job\n",
      "\n",
      "Getting a job\n",
      "\n",
      "Getting a job\n",
      "\n",
      "Getting a\n",
      "\n",
      "Use cache = True , Time taken : 5.009 seconds\n",
      "\n"
     ]
    }
   ],
   "source": [
    "print(f\"\\n\\n### With KEY-VALUE Caching ###\")\n",
    "stream_output(use_cache=True)"
   ]
  },
  {
   "cell_type": "markdown",
   "id": "03aa6c20",
   "metadata": {},
   "source": [
    "### Without KV Caching : 10.845 seconds\n",
    "### With KV Caching    : 5.009 seconds"
   ]
  }
 ],
 "metadata": {
  "kernelspec": {
   "display_name": "Python 3",
   "language": "python",
   "name": "python3"
  },
  "language_info": {
   "codemirror_mode": {
    "name": "ipython",
    "version": 3
   },
   "file_extension": ".py",
   "mimetype": "text/x-python",
   "name": "python",
   "nbconvert_exporter": "python",
   "pygments_lexer": "ipython3",
   "version": "3.12.10"
  }
 },
 "nbformat": 4,
 "nbformat_minor": 5
}
